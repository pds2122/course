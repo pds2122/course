{
  "nbformat": 4,
  "nbformat_minor": 0,
  "metadata": {
    "celltoolbar": "Slideshow",
    "kernelspec": {
      "display_name": "Python 3",
      "language": "python",
      "name": "python3"
    },
    "language_info": {
      "codemirror_mode": {
        "name": "ipython",
        "version": 3
      },
      "file_extension": ".py",
      "mimetype": "text/x-python",
      "name": "python",
      "nbconvert_exporter": "python",
      "pygments_lexer": "ipython3",
      "version": "3.8.10"
    },
    "rise": {
      "enable_chalkboard": false,
      "overlay": "<div class='background'></div><div class='header'>WS 21/22</br>PDS</div><div class='logo'><img src='images/unilogo.png'></div><div class='bar'></div>",
      "scroll": true,
      "slideNumber": "h.v"
    },
    "toc": {
      "base_numbering": 1,
      "nav_menu": {},
      "number_sections": true,
      "sideBar": true,
      "skip_h1_title": true,
      "title_cell": "Table of Contents",
      "title_sidebar": "Contents",
      "toc_cell": true,
      "toc_position": {},
      "toc_section_display": true,
      "toc_window_display": false
    },
    "colab": {
      "name": "01_Introduction.ipynb",
      "provenance": [],
      "include_colab_link": true
    }
  },
  "cells": [
    {
      "cell_type": "markdown",
      "metadata": {
        "id": "view-in-github",
        "colab_type": "text"
      },
      "source": [
        "<a href=\"https://colab.research.google.com/github/pds2122/course/blob/main/nbs/01_Introduction.ipynb\" target=\"_parent\"><img src=\"https://colab.research.google.com/assets/colab-badge.svg\" alt=\"Open In Colab\"/></a>"
      ]
    },
    {
      "cell_type": "markdown",
      "metadata": {
        "id": "RQNKDp_MZUZR"
      },
      "source": [
        "<div class='bar_title'></div>\n",
        "\n",
        "*Practical Data Science*\n",
        "\n",
        "# Introduction\n",
        "\n",
        "Nikolai Stein / Matthias Griebel<br>\n",
        "Chair of Information Systems and Business Analytics\n",
        "\n",
        "Winter Semester 21/22"
      ]
    },
    {
      "cell_type": "markdown",
      "metadata": {
        "toc": true,
        "id": "V4lHk45AZUZU"
      },
      "source": [
        "<h1>Table of Contents<span class=\"tocSkip\"></span></h1>\n",
        "<div class=\"toc\"><ul class=\"toc-item\"><li><span><a href=\"#Chair-of-Information-Systems-and-Business-Analytics\" data-toc-modified-id=\"Chair-of-Information-Systems-and-Business-Analytics-1\"><span class=\"toc-item-num\">1&nbsp;&nbsp;</span>Chair of Information Systems and Business Analytics</a></span><ul class=\"toc-item\"><li><span><a href=\"#Team\" data-toc-modified-id=\"Team-1.1\"><span class=\"toc-item-num\">1.1&nbsp;&nbsp;</span>Team</a></span></li><li><span><a href=\"#Research-Areas\" data-toc-modified-id=\"Research-Areas-1.2\"><span class=\"toc-item-num\">1.2&nbsp;&nbsp;</span>Research Areas</a></span></li><li><span><a href=\"#Master-Teaching-Program\" data-toc-modified-id=\"Master-Teaching-Program-1.3\"><span class=\"toc-item-num\">1.3&nbsp;&nbsp;</span>Master Teaching Program</a></span></li></ul></li><li><span><a href=\"#Course-Organization\" data-toc-modified-id=\"Course-Organization-2\"><span class=\"toc-item-num\">2&nbsp;&nbsp;</span>Course Organization</a></span><ul class=\"toc-item\"><li><span><a href=\"#Learning-Objectives\" data-toc-modified-id=\"Learning-Objectives-2.1\"><span class=\"toc-item-num\">2.1&nbsp;&nbsp;</span>Learning Objectives</a></span></li><li><span><a href=\"#Tentative-Schedule-of-Topics\" data-toc-modified-id=\"Tentative-Schedule-of-Topics-2.2\"><span class=\"toc-item-num\">2.2&nbsp;&nbsp;</span>Tentative Schedule of Topics</a></span></li><li><span><a href=\"#Programming-Assignments\" data-toc-modified-id=\"Programming-Assignments-2.3\"><span class=\"toc-item-num\">2.3&nbsp;&nbsp;</span>Programming Assignments</a></span></li></ul></li><li><span><a href=\"#Programming-Language-(Python)\" data-toc-modified-id=\"Programming-Language-(Python)-3\"><span class=\"toc-item-num\">3&nbsp;&nbsp;</span>Programming Language (Python)</a></span></li></ul></div>"
      ]
    },
    {
      "cell_type": "markdown",
      "metadata": {
        "id": "vSFjRRMoZUZV"
      },
      "source": [
        "## Chair of Information Systems and Business Analytics"
      ]
    },
    {
      "cell_type": "markdown",
      "metadata": {
        "id": "pLp6XzM6ZUZW"
      },
      "source": [
        "### Team"
      ]
    },
    {
      "cell_type": "markdown",
      "metadata": {
        "id": "vupiVuoAZUZW"
      },
      "source": [
        "<img src=\"https://github.com/NikoStein/pds_data/raw/main/images/01/team.png\" style=\"width:80%\">"
      ]
    },
    {
      "cell_type": "markdown",
      "metadata": {
        "id": "LZQ3EdrvZUZX"
      },
      "source": [
        "### Research Areas"
      ]
    },
    {
      "cell_type": "markdown",
      "metadata": {
        "hide_input": true,
        "id": "w6_SWZN0ZUZX"
      },
      "source": [
        "<img src=\"https://github.com/NikoStein/pds_data/raw/main/images/01/research.png\" style=\"width:80%\">"
      ]
    },
    {
      "cell_type": "markdown",
      "metadata": {
        "id": "FR_af-6uZUZY"
      },
      "source": [
        "### Master Teaching Program"
      ]
    },
    {
      "cell_type": "markdown",
      "metadata": {
        "hide_input": true,
        "id": "3zy0eavBZUZY"
      },
      "source": [
        "<img src=\"https://github.com/NikoStein/pds_data/raw/main/images/01/courses_master.png\" style=\"width:80%\">"
      ]
    },
    {
      "cell_type": "markdown",
      "metadata": {
        "id": "71lkQI1HZUZZ"
      },
      "source": [
        "## Course Organization"
      ]
    },
    {
      "cell_type": "markdown",
      "metadata": {
        "cell_style": "split",
        "id": "P4gA1LRWZUZa"
      },
      "source": [
        " -  Classes\n",
        "    - Lecture: \tThursday 10:15 – 11:45\n",
        "    - Tutorial: After Lecture \n",
        " -  Self-study and Tutorial\n",
        "    - Work on (bi-)weekly assignments and programming examples\n",
        "    - Worksheet submissions are mandatory"
      ]
    },
    {
      "cell_type": "markdown",
      "metadata": {
        "cell_style": "split",
        "id": "jGuqn6UrZUZa"
      },
      "source": [
        "-  WueCampus      \n",
        "    - Forum and information\n",
        "- Github\n",
        "    - Slides and worksheets     \n",
        "    - Submission of solutions  "
      ]
    },
    {
      "cell_type": "markdown",
      "metadata": {
        "id": "ra34PBT0ZUZa"
      },
      "source": [
        "-  **Examination**: Graded capstone group project     \n",
        "    - Work on a real-world problem set\n",
        "    - Groups of 3 students"
      ]
    },
    {
      "cell_type": "markdown",
      "metadata": {
        "id": "MIPcLAkgZUZb"
      },
      "source": [
        "### Learning Objectives"
      ]
    },
    {
      "cell_type": "markdown",
      "metadata": {
        "id": "m0OcammpZUZb"
      },
      "source": [
        "* The foundations, **frameworks and applications** of the emerging field of data science\n",
        "* Design, implement, and evaluate the core algorithms underlying an **end-to-end data science workflow**, including data import, analysis, and presentation of information\n",
        "* Leverage the **Python** application programming interface (API) ecosystem and data infrastructure that supports data acquisition, storage, retrieval and analysis\n",
        "* The application of a data-based **analytical approach** to identify and solve problems\n",
        "* Implementation and execution skills for **data-driven business analytics**"
      ]
    },
    {
      "cell_type": "markdown",
      "metadata": {
        "id": "J-wj7rIaZUZb"
      },
      "source": [
        "### Tentative Schedule of Topics"
      ]
    },
    {
      "cell_type": "markdown",
      "metadata": {
        "id": "cNKreTgMZUZb"
      },
      "source": [
        "1. Introduction, Jupyter Notebooks, Version Control (**today**)\n",
        "1. Descriptive Analytics\n",
        "1. Basic Machine Learning\n",
        "1. Feature Engineering\n",
        "1. Deep Learning on Tabular Data\n",
        "1. Deep Learning for Computer Vision\n",
        "1. Deep Learning for Natural Language Processing"
      ]
    },
    {
      "cell_type": "markdown",
      "metadata": {
        "id": "GVK2IzOaZUZc"
      },
      "source": [
        "### Programming Assignments"
      ]
    },
    {
      "cell_type": "markdown",
      "metadata": {
        "id": "5u2jVmBvZUZc"
      },
      "source": [
        "0. Initial Assignment (**this week**, not graded)\n",
        "1. Descriptive Analytics\n",
        "1. Machine Learning and Feature Engineering\n",
        "1. Deep Learning on Tabular Data\n",
        "1. Deep Learning for Computer Vision\n",
        "1. Deep Learning for Computer Vision II"
      ]
    },
    {
      "cell_type": "markdown",
      "metadata": {
        "id": "ezivMYHrZUZc"
      },
      "source": [
        "## Programming Language (Python)"
      ]
    },
    {
      "cell_type": "markdown",
      "metadata": {
        "id": "KUuwh7hBZUZc"
      },
      "source": [
        "__Python is <s>becoming</s> the world’s most popular coding language__\n",
        "\n",
        "For the first time in more than 20 years we have a new leader of the pack: the Python programming language\n",
        "\n",
        "<img src=\"https://github.com/NikoStein/pds_data/raw/main/images/01/tiobe_2021.png\" style=\"width:50%\">\n",
        "\n",
        "Source: [Tiobe](https://www.tiobe.com/tiobe-index/)"
      ]
    },
    {
      "cell_type": "markdown",
      "metadata": {
        "id": "75EzrcZsZUZd"
      },
      "source": [
        "**Why Python?**\n",
        "\n",
        "While there are several great languages for data analysis (such as R, Julia, Scala, ...) we decided to use python for this class because of the following reasons:\n",
        "\n",
        "* Excellent interactive shell and a large collection of open source packages\n",
        "* Very simple syntax\n",
        "* Simple enough for things to happen quickly and powerful enough to allow the implementation of the most complex ideas\n",
        "* Several highly optimized machine learning libraries that you can drag and drop into your code even if you know a minimum of Python\n",
        "* Good visualization capabilities"
      ]
    }
  ]
}