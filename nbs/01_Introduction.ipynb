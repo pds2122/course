{
 "cells": [
  {
   "cell_type": "markdown",
   "metadata": {
    "slideshow": {
     "slide_type": "slide"
    }
   },
   "source": [
    "<div class='bar_title'></div>\n",
    "\n",
    "*Practical Data Science*\n",
    "\n",
    "# Introduction\n",
    "\n",
    "Nikolai Stein / Matthias Griebel<br>\n",
    "Chair of Information Systems and Management\n",
    "\n",
    "Winter Semester 20/21"
   ]
  },
  {
   "cell_type": "markdown",
   "metadata": {
    "slideshow": {
     "slide_type": "subslide"
    },
    "toc": true
   },
   "source": [
    "<h1>Table of Contents<span class=\"tocSkip\"></span></h1>\n",
    "<div class=\"toc\"><ul class=\"toc-item\"><li><span><a href=\"#Chair-of-Information-Systems-and-Management\" data-toc-modified-id=\"Chair-of-Information-Systems-and-Management-1\"><span class=\"toc-item-num\">1&nbsp;&nbsp;</span>Chair of Information Systems and Management</a></span><ul class=\"toc-item\"><li><span><a href=\"#Team\" data-toc-modified-id=\"Team-1.1\"><span class=\"toc-item-num\">1.1&nbsp;&nbsp;</span>Team</a></span></li><li><span><a href=\"#Research-Areas\" data-toc-modified-id=\"Research-Areas-1.2\"><span class=\"toc-item-num\">1.2&nbsp;&nbsp;</span>Research Areas</a></span></li><li><span><a href=\"#Master-Teaching-Program\" data-toc-modified-id=\"Master-Teaching-Program-1.3\"><span class=\"toc-item-num\">1.3&nbsp;&nbsp;</span>Master Teaching Program</a></span></li></ul></li><li><span><a href=\"#Course-Organization\" data-toc-modified-id=\"Course-Organization-2\"><span class=\"toc-item-num\">2&nbsp;&nbsp;</span>Course Organization</a></span><ul class=\"toc-item\"><li><span><a href=\"#Learning-Objectives\" data-toc-modified-id=\"Learning-Objectives-2.1\"><span class=\"toc-item-num\">2.1&nbsp;&nbsp;</span>Learning Objectives</a></span></li><li><span><a href=\"#Tentative-Schedule-of-Topics\" data-toc-modified-id=\"Tentative-Schedule-of-Topics-2.2\"><span class=\"toc-item-num\">2.2&nbsp;&nbsp;</span>Tentative Schedule of Topics</a></span></li><li><span><a href=\"#Programming-Assignments\" data-toc-modified-id=\"Programming-Assignments-2.3\"><span class=\"toc-item-num\">2.3&nbsp;&nbsp;</span>Programming Assignments</a></span></li></ul></li><li><span><a href=\"#Programming-Language-(Python)\" data-toc-modified-id=\"Programming-Language-(Python)-3\"><span class=\"toc-item-num\">3&nbsp;&nbsp;</span>Programming Language (Python)</a></span></li></ul></div>"
   ]
  },
  {
   "cell_type": "markdown",
   "metadata": {
    "slideshow": {
     "slide_type": "slide"
    }
   },
   "source": [
    "## Chair of Information Systems and Management"
   ]
  },
  {
   "cell_type": "markdown",
   "metadata": {
    "slideshow": {
     "slide_type": "subslide"
    }
   },
   "source": [
    "### Team"
   ]
  },
  {
   "cell_type": "markdown",
   "metadata": {
    "slideshow": {
     "slide_type": "fragment"
    }
   },
   "source": [
    "<img src=\"images/01/team.png\" style=\"width:80%\">"
   ]
  },
  {
   "cell_type": "markdown",
   "metadata": {
    "slideshow": {
     "slide_type": "subslide"
    }
   },
   "source": [
    "### Research Areas"
   ]
  },
  {
   "cell_type": "markdown",
   "metadata": {
    "hide_input": true,
    "slideshow": {
     "slide_type": "fragment"
    }
   },
   "source": [
    "<img src=\"images/01/research.png\" style=\"width:80%\">"
   ]
  },
  {
   "cell_type": "markdown",
   "metadata": {
    "slideshow": {
     "slide_type": "subslide"
    }
   },
   "source": [
    "### Master Teaching Program"
   ]
  },
  {
   "cell_type": "markdown",
   "metadata": {
    "hide_input": true,
    "slideshow": {
     "slide_type": "fragment"
    }
   },
   "source": [
    "<img src=\"images/01/courses_master.png\" style=\"width:100%\">"
   ]
  },
  {
   "cell_type": "markdown",
   "metadata": {
    "slideshow": {
     "slide_type": "slide"
    }
   },
   "source": [
    "## Course Organization"
   ]
  },
  {
   "cell_type": "markdown",
   "metadata": {
    "cell_style": "split",
    "slideshow": {
     "slide_type": "fragment"
    }
   },
   "source": [
    " -  Classes\n",
    "    - Lecture: \tThursday 10:15 – 11:45 (zoom)\n",
    "    - Tutorial: After Lecture (zoom)    \n",
    " -  Self-study and Tutorial\n",
    "    - Work on weekly assignments and programming examples\n",
    "    - Worksheet submissions are mandatory"
   ]
  },
  {
   "cell_type": "markdown",
   "metadata": {
    "cell_style": "split",
    "slideshow": {
     "slide_type": "fragment"
    }
   },
   "source": [
    "-  WueCampus      \n",
    "    - Forum and information\n",
    "    - Access Code: PDS2021\n",
    "- Github\n",
    "    - Slides and worksheets     \n",
    "    - Submission of solutions  "
   ]
  },
  {
   "cell_type": "markdown",
   "metadata": {
    "slideshow": {
     "slide_type": "fragment"
    }
   },
   "source": [
    "-  **Examination**: Graded capstone group project     \n",
    "    - Work on a real-world problem set\n",
    "    - Groups of 3 students"
   ]
  },
  {
   "cell_type": "markdown",
   "metadata": {
    "slideshow": {
     "slide_type": "subslide"
    }
   },
   "source": [
    "### Learning Objectives"
   ]
  },
  {
   "cell_type": "markdown",
   "metadata": {
    "slideshow": {
     "slide_type": "fragment"
    }
   },
   "source": [
    "* The foundations, frameworks and applications of the emerging field of data science\n",
    "* Design, implement, and evaluate the core algorithms underlying an end-to-end data science workflow, including data import, analysis, and presentation of information\n",
    "* Leverage the Python application programming interface (API) ecosystem and data infrastructure that supports data acquisition, storage, retrieval and analysis\n",
    "* The application of a data-based analytical approach to identify and solve problems\n",
    "* Implementation and execution skills for data-driven business analytics"
   ]
  },
  {
   "cell_type": "markdown",
   "metadata": {
    "slideshow": {
     "slide_type": "slide"
    }
   },
   "source": [
    "### Tentative Schedule of Topics"
   ]
  },
  {
   "cell_type": "markdown",
   "metadata": {
    "slideshow": {
     "slide_type": "fragment"
    }
   },
   "source": [
    "1. Introduction, Jupyter Notebooks, Version Control (**today**)\n",
    "1. Descriptive Analytics\n",
    "1. Basic Machine Learning\n",
    "1. Feature Engineering\n",
    "1. Deep Learning on Tabular Data\n",
    "1. Deep Learning for Computer Vision (2 weeks)\n",
    "1. Deep Learning for Natural Language Processing\n",
    "1. Further Topics (tbd)"
   ]
  },
  {
   "cell_type": "markdown",
   "metadata": {
    "slideshow": {
     "slide_type": "slide"
    }
   },
   "source": [
    "### Programming Assignments"
   ]
  },
  {
   "cell_type": "markdown",
   "metadata": {
    "slideshow": {
     "slide_type": "fragment"
    }
   },
   "source": [
    "0. Initial Assignment (**this week**, not graded)\n",
    "1. Descriptive Analytics\n",
    "1. Machine Learning and Feature Engeneering\n",
    "1. Deep Learning on Tabular Data\n",
    "1. Deep Learning for Computer Vision\n",
    "1. Deep Learning for Computer Vision II"
   ]
  },
  {
   "cell_type": "markdown",
   "metadata": {
    "slideshow": {
     "slide_type": "slide"
    }
   },
   "source": [
    "## Programming Language (Python)"
   ]
  },
  {
   "cell_type": "markdown",
   "metadata": {
    "slideshow": {
     "slide_type": "fragment"
    }
   },
   "source": [
    "__Python is becoming the world’s most popular coding language__\n",
    "<img src=\"images/01/programming_economist.png\" style=\"width:50%\">\n",
    "\n",
    "Source: [The Economist](https://www.economist.com/graphic-detail/2018/07/26/python-is-becoming-the-worlds-most-popular-coding-language)"
   ]
  },
  {
   "cell_type": "markdown",
   "metadata": {
    "slideshow": {
     "slide_type": "subslide"
    }
   },
   "source": [
    "**Why Python?**\n",
    "\n",
    "While there are several great languages for data analysis (such as R, Julia, Scala, ...) we decided to use python for this class because of the following reasons:\n",
    "\n",
    "* Excellent interactive shell and a large collection of open source packages\n",
    "* Very simple syntax\n",
    "* Simple enough for things to happen quickly and powerful enough to allow the implementation of the most complex ideas\n",
    "* Several highly optimized machine learning libraries that you can drag and drop into your code even if you know a minimum of Python\n",
    "* Good visualization capabilities"
   ]
  }
 ],
 "metadata": {
  "celltoolbar": "Slideshow",
  "kernelspec": {
   "display_name": "Python 3",
   "language": "python",
   "name": "python3"
  },
  "language_info": {
   "codemirror_mode": {
    "name": "ipython",
    "version": 3
   },
   "file_extension": ".py",
   "mimetype": "text/x-python",
   "name": "python",
   "nbconvert_exporter": "python",
   "pygments_lexer": "ipython3",
   "version": "3.8.5"
  },
  "rise": {
   "enable_chalkboard": false,
   "overlay": "<div class='background'></div><div class='header'>WS 20/21</br>PDS</div><div class='logo'><img src='images/unilogo.png'></div><div class='bar'></div>",
   "scroll": true,
   "slideNumber": "h.v"
  },
  "toc": {
   "base_numbering": 1,
   "nav_menu": {},
   "number_sections": true,
   "sideBar": true,
   "skip_h1_title": true,
   "title_cell": "Table of Contents",
   "title_sidebar": "Contents",
   "toc_cell": true,
   "toc_position": {},
   "toc_section_display": true,
   "toc_window_display": false
  }
 },
 "nbformat": 4,
 "nbformat_minor": 4
}
