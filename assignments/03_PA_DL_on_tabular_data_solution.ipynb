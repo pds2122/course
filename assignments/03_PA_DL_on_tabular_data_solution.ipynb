{
  "nbformat": 4,
  "nbformat_minor": 0,
  "metadata": {
    "colab": {
      "name": "03_PA_DL-on-tabular-data_solution.ipynb",
      "provenance": [],
      "collapsed_sections": [],
      "include_colab_link": true
    },
    "kernelspec": {
      "display_name": "fastai",
      "language": "python",
      "name": "fastai"
    },
    "language_info": {
      "codemirror_mode": {
        "name": "ipython",
        "version": 3
      },
      "file_extension": ".py",
      "mimetype": "text/x-python",
      "name": "python",
      "nbconvert_exporter": "python",
      "pygments_lexer": "ipython3",
      "version": "3.8.6"
    },
    "toc": {
      "base_numbering": 1,
      "nav_menu": {},
      "number_sections": true,
      "sideBar": true,
      "skip_h1_title": true,
      "title_cell": "Table of Contents",
      "title_sidebar": "Contents",
      "toc_cell": false,
      "toc_position": {},
      "toc_section_display": true,
      "toc_window_display": false
    }
  },
  "cells": [
    {
      "cell_type": "markdown",
      "metadata": {
        "id": "view-in-github",
        "colab_type": "text"
      },
      "source": [
        "<a href=\"https://colab.research.google.com/github/pds2122/course/blob/main/assignments/03_PA_DL_on_tabular_data_solution.ipynb\" target=\"_parent\"><img src=\"https://colab.research.google.com/assets/colab-badge.svg\" alt=\"Open In Colab\"/></a>"
      ]
    },
    {
      "cell_type": "markdown",
      "metadata": {
        "id": "tGc2_6yfntEV"
      },
      "source": [
        "*Practical Data Science 21/22*\n",
        "# Programming Assignment 3 - Predicting Video Game Sales with Deep Learning"
      ]
    },
    {
      "cell_type": "markdown",
      "metadata": {
        "id": "IoLPBsbcntEY"
      },
      "source": [
        "In this programming assignment, you need to apply your new deep learning knowledge. In contrast to PA2, you don't have to bother about feature engineering. You will build an artificial neural network with multiple layers that learns features from the raw data."
      ]
    },
    {
      "cell_type": "markdown",
      "metadata": {
        "id": "JcWF9CzcntEb"
      },
      "source": [
        "## Introduction and Dataset\n",
        "\n",
        "You are provided with a dataset containing a list of video games with sales greater than 100.000 copies. Again, your task is to build a model predicting the yearly global sales (column ``Global_Sales``) of a video game leveraging the available features.\n",
        "\n",
        "To help you get started, the following blocks of code import the dataset using pandas: "
      ]
    },
    {
      "cell_type": "code",
      "metadata": {
        "id": "f0J9ncohntEd"
      },
      "source": [
        "import pandas as pd"
      ],
      "execution_count": 27,
      "outputs": []
    },
    {
      "cell_type": "code",
      "metadata": {
        "colab": {
          "base_uri": "https://localhost:8080/",
          "height": 204
        },
        "id": "522615ykntEj",
        "outputId": "730f40dd-6766-4f07-ce2f-23719a8cd946"
      },
      "source": [
        "data_path = 'https://raw.githubusercontent.com/NikoStein/pds_data/main/data/video_game_sales.csv'\n",
        "df = pd.read_csv(data_path)\n",
        "df.head()"
      ],
      "execution_count": 28,
      "outputs": [
        {
          "output_type": "execute_result",
          "data": {
            "text/html": [
              "<div>\n",
              "<style scoped>\n",
              "    .dataframe tbody tr th:only-of-type {\n",
              "        vertical-align: middle;\n",
              "    }\n",
              "\n",
              "    .dataframe tbody tr th {\n",
              "        vertical-align: top;\n",
              "    }\n",
              "\n",
              "    .dataframe thead th {\n",
              "        text-align: right;\n",
              "    }\n",
              "</style>\n",
              "<table border=\"1\" class=\"dataframe\">\n",
              "  <thead>\n",
              "    <tr style=\"text-align: right;\">\n",
              "      <th></th>\n",
              "      <th>Name</th>\n",
              "      <th>Platform</th>\n",
              "      <th>Year_of_Release</th>\n",
              "      <th>Genre</th>\n",
              "      <th>Global_Sales</th>\n",
              "      <th>Critic_Score</th>\n",
              "      <th>Critic_Count</th>\n",
              "      <th>User_Score</th>\n",
              "      <th>User_Count</th>\n",
              "      <th>Rating</th>\n",
              "    </tr>\n",
              "  </thead>\n",
              "  <tbody>\n",
              "    <tr>\n",
              "      <th>0</th>\n",
              "      <td>Wii Sports</td>\n",
              "      <td>Wii</td>\n",
              "      <td>2006.0</td>\n",
              "      <td>Sports</td>\n",
              "      <td>82.53</td>\n",
              "      <td>76.0</td>\n",
              "      <td>51.0</td>\n",
              "      <td>8.0</td>\n",
              "      <td>322.0</td>\n",
              "      <td>E</td>\n",
              "    </tr>\n",
              "    <tr>\n",
              "      <th>1</th>\n",
              "      <td>Super Mario Bros.</td>\n",
              "      <td>NES</td>\n",
              "      <td>1985.0</td>\n",
              "      <td>Platform</td>\n",
              "      <td>40.24</td>\n",
              "      <td>NaN</td>\n",
              "      <td>NaN</td>\n",
              "      <td>NaN</td>\n",
              "      <td>NaN</td>\n",
              "      <td>NaN</td>\n",
              "    </tr>\n",
              "    <tr>\n",
              "      <th>2</th>\n",
              "      <td>Mario Kart Wii</td>\n",
              "      <td>Wii</td>\n",
              "      <td>2008.0</td>\n",
              "      <td>Racing</td>\n",
              "      <td>35.52</td>\n",
              "      <td>82.0</td>\n",
              "      <td>73.0</td>\n",
              "      <td>8.3</td>\n",
              "      <td>709.0</td>\n",
              "      <td>E</td>\n",
              "    </tr>\n",
              "    <tr>\n",
              "      <th>3</th>\n",
              "      <td>Wii Sports Resort</td>\n",
              "      <td>Wii</td>\n",
              "      <td>2009.0</td>\n",
              "      <td>Sports</td>\n",
              "      <td>32.77</td>\n",
              "      <td>80.0</td>\n",
              "      <td>73.0</td>\n",
              "      <td>8.0</td>\n",
              "      <td>192.0</td>\n",
              "      <td>E</td>\n",
              "    </tr>\n",
              "    <tr>\n",
              "      <th>4</th>\n",
              "      <td>Pokemon Red/Pokemon Blue</td>\n",
              "      <td>GB</td>\n",
              "      <td>1996.0</td>\n",
              "      <td>Role-Playing</td>\n",
              "      <td>31.37</td>\n",
              "      <td>NaN</td>\n",
              "      <td>NaN</td>\n",
              "      <td>NaN</td>\n",
              "      <td>NaN</td>\n",
              "      <td>NaN</td>\n",
              "    </tr>\n",
              "  </tbody>\n",
              "</table>\n",
              "</div>"
            ],
            "text/plain": [
              "                       Name Platform  ...  User_Count Rating\n",
              "0                Wii Sports      Wii  ...       322.0      E\n",
              "1         Super Mario Bros.      NES  ...         NaN    NaN\n",
              "2            Mario Kart Wii      Wii  ...       709.0      E\n",
              "3         Wii Sports Resort      Wii  ...       192.0      E\n",
              "4  Pokemon Red/Pokemon Blue       GB  ...         NaN    NaN\n",
              "\n",
              "[5 rows x 10 columns]"
            ]
          },
          "metadata": {},
          "execution_count": 28
        }
      ]
    },
    {
      "cell_type": "markdown",
      "metadata": {
        "id": "ofYTnNAR-9MY"
      },
      "source": [
        "## Creating Dataloaders"
      ]
    },
    {
      "cell_type": "markdown",
      "metadata": {
        "id": "ipIUFLeW_uSM"
      },
      "source": [
        "First, import everything we need for the tabular model"
      ]
    },
    {
      "cell_type": "code",
      "metadata": {
        "id": "gBai9D2s_lpV"
      },
      "source": [
        "!pip install -Uqq fastai  # upgrade fastai on colab\n",
        "from fastai.tabular.all import *\n",
        "from sklearn.model_selection import train_test_split"
      ],
      "execution_count": 29,
      "outputs": []
    },
    {
      "cell_type": "markdown",
      "metadata": {
        "id": "OvdLUmcaAq9R"
      },
      "source": [
        "To create [TabularDataLoaders](https://docs.fast.ai/tabular.data.html#TabularDataLoaders), you need to assign the variables to dependent, categorical and continuous variables"
      ]
    },
    {
      "cell_type": "code",
      "metadata": {
        "id": "Vdezd0j7_Wdi"
      },
      "source": [
        "# Write your code here\n",
        "y_names = 'Global_Sales'\n",
        "cat_names = ['Platform', 'Genre', 'Rating']\n",
        "cont_names = ['Year_of_Release', 'Critic_Score', 'Critic_Count', 'User_Score', 'User_Count']"
      ],
      "execution_count": 30,
      "outputs": []
    },
    {
      "cell_type": "markdown",
      "metadata": {
        "id": "iLhapopYGT3h"
      },
      "source": [
        "fast.ai contains classes that define [transformations](https://docs.fast.ai/tabular.transform.html) for preprocessing. Provide a list of appropriate preprocessing steps."
      ]
    },
    {
      "cell_type": "code",
      "metadata": {
        "id": "_9KQFBwG_dJ0"
      },
      "source": [
        "# Write your code here\n",
        "procs = [FillMissing, Categorify, Normalize]"
      ],
      "execution_count": 31,
      "outputs": []
    },
    {
      "cell_type": "markdown",
      "metadata": {
        "id": "n9lT7cAmA5F2"
      },
      "source": [
        "You also need to define the train and validation set (using indices!). \n",
        "- Use a train/test split of 80/20"
      ]
    },
    {
      "cell_type": "code",
      "metadata": {
        "id": "LUcbJryxn12c"
      },
      "source": [
        "# Write your code here\n",
        "train_idx, valid_idx = train_test_split(range(len(df)), test_size=0.2, random_state = 0)"
      ],
      "execution_count": 32,
      "outputs": []
    },
    {
      "cell_type": "markdown",
      "metadata": {
        "id": "SqUQuG7UB3qw"
      },
      "source": [
        "Now you're ready to create the [TabularDataLoaders](https://docs.fast.ai/tabular.data.html#TabularDataLoaders) that you'll use for training.\n",
        "- Use the Factory Method that creates the `dls` from a dataframe\n",
        "- Set the batch size to 16"
      ]
    },
    {
      "cell_type": "code",
      "metadata": {
        "id": "_BTDl0Rfn7UO"
      },
      "source": [
        "dls = TabularDataLoaders.from_df(df=df, y_names=y_names, valid_idx=valid_idx, \n",
        "                                 procs=procs, cat_names=cat_names, cont_names=cont_names, \n",
        "                                 bs=16)"
      ],
      "execution_count": 33,
      "outputs": []
    },
    {
      "cell_type": "markdown",
      "metadata": {
        "id": "TnVNxb0eAASO"
      },
      "source": [
        "How many features numerical and categorical feautures are created by the dataloaders after preprocessing the data?\n",
        "- print the names and the count of these features"
      ]
    },
    {
      "cell_type": "code",
      "metadata": {
        "id": "YrE-dJ0oARl3",
        "colab": {
          "base_uri": "https://localhost:8080/"
        },
        "outputId": "45020c19-e61b-41a8-82ce-c8d7ac42de5d"
      },
      "source": [
        "# Write your code here\n",
        "print('Categorical feature names:', dls.cat_names)\n",
        "print('Number of categorical features:', len(dls.cat_names))\n",
        "print('Continuous feature names:', dls.cont_names)\n",
        "print('Number of continuous features:', len(dls.cont_names))"
      ],
      "execution_count": 34,
      "outputs": [
        {
          "output_type": "stream",
          "name": "stdout",
          "text": [
            "Categorical feature names: ['Platform', 'Genre', 'Rating', 'Year_of_Release_na', 'Critic_Score_na', 'Critic_Count_na', 'User_Score_na', 'User_Count_na']\n",
            "Number of categorical features: 8\n",
            "Continuous feature names: ['Year_of_Release', 'Critic_Score', 'Critic_Count', 'User_Score', 'User_Count']\n",
            "Number of continuous features: 5\n"
          ]
        }
      ]
    },
    {
      "cell_type": "markdown",
      "metadata": {
        "id": "NHPY-ROICpQS"
      },
      "source": [
        "## Modeling"
      ]
    },
    {
      "cell_type": "markdown",
      "metadata": {
        "id": "2QbIfj5hCz27"
      },
      "source": [
        "### Create Learner\n",
        "\n",
        "Create an [appropriate learner](https://docs.fast.ai/tabular.learner.html) for data. A learner creates a neural network for us.\n",
        "- Use 100 nodes in the first and 50 nodes in the second layer\n",
        "- Choose the [metrics](https://docs.fast.ai/metrics.html) *root mean squared error* and mean *absolute error*. You can pass a list of metrics to the learner.\n",
        "- Bonus: Looking at the keyword arguments of the [tabular learner](https://docs.fast.ai/tabular.learner.html), how could you limit the predicted sales appropriately?"
      ]
    },
    {
      "cell_type": "code",
      "metadata": {
        "id": "MPbUxgzKqHf5"
      },
      "source": [
        "# Write your code here\n",
        "# Limiting the output activation fixes instable training and leads to better results\n",
        "range_scale = 1.2\n",
        "y_range = (float(df.iloc[train_idx].Global_Sales.min() * range_scale),\n",
        "           float(df.iloc[train_idx].Global_Sales.max() * range_scale))\n",
        "\n",
        "learn = tabular_learner(dls, layers=[100,50], metrics=[rmse, mae], y_range=y_range)"
      ],
      "execution_count": 44,
      "outputs": []
    },
    {
      "cell_type": "markdown",
      "metadata": {
        "id": "e7m5M2PHJoiZ"
      },
      "source": [
        "How many Embeddings are there in the model? Use `learn.dls.show_batch()` to explain why!"
      ]
    },
    {
      "cell_type": "code",
      "metadata": {
        "id": "tumJY7DNJjp-",
        "colab": {
          "base_uri": "https://localhost:8080/"
        },
        "outputId": "2fe67396-82b5-46de-aff7-ecebb5303a30"
      },
      "source": [
        "# Write your answer here\n",
        "learn.model"
      ],
      "execution_count": 45,
      "outputs": [
        {
          "output_type": "execute_result",
          "data": {
            "text/plain": [
              "TabularModel(\n",
              "  (embeds): ModuleList(\n",
              "    (0): Embedding(32, 11)\n",
              "    (1): Embedding(13, 7)\n",
              "    (2): Embedding(9, 5)\n",
              "    (3): Embedding(3, 3)\n",
              "    (4): Embedding(3, 3)\n",
              "    (5): Embedding(3, 3)\n",
              "    (6): Embedding(3, 3)\n",
              "    (7): Embedding(3, 3)\n",
              "  )\n",
              "  (emb_drop): Dropout(p=0.0, inplace=False)\n",
              "  (bn_cont): BatchNorm1d(5, eps=1e-05, momentum=0.1, affine=True, track_running_stats=True)\n",
              "  (layers): Sequential(\n",
              "    (0): LinBnDrop(\n",
              "      (0): Linear(in_features=43, out_features=100, bias=False)\n",
              "      (1): ReLU(inplace=True)\n",
              "      (2): BatchNorm1d(100, eps=1e-05, momentum=0.1, affine=True, track_running_stats=True)\n",
              "    )\n",
              "    (1): LinBnDrop(\n",
              "      (0): Linear(in_features=100, out_features=50, bias=False)\n",
              "      (1): ReLU(inplace=True)\n",
              "      (2): BatchNorm1d(50, eps=1e-05, momentum=0.1, affine=True, track_running_stats=True)\n",
              "    )\n",
              "    (2): LinBnDrop(\n",
              "      (0): Linear(in_features=50, out_features=1, bias=True)\n",
              "    )\n",
              "    (3): SigmoidRange(low=0.012, high=99.036)\n",
              "  )\n",
              ")"
            ]
          },
          "metadata": {},
          "execution_count": 45
        }
      ]
    },
    {
      "cell_type": "code",
      "metadata": {
        "id": "b8N08dhaFrcr",
        "colab": {
          "base_uri": "https://localhost:8080/",
          "height": 359
        },
        "outputId": "f529a417-f31f-4e77-e691-396e8bf267a4"
      },
      "source": [
        "learn.dls.show_batch()"
      ],
      "execution_count": 46,
      "outputs": [
        {
          "output_type": "display_data",
          "data": {
            "text/html": [
              "<table border=\"1\" class=\"dataframe\">\n",
              "  <thead>\n",
              "    <tr style=\"text-align: right;\">\n",
              "      <th></th>\n",
              "      <th>Platform</th>\n",
              "      <th>Genre</th>\n",
              "      <th>Rating</th>\n",
              "      <th>Year_of_Release_na</th>\n",
              "      <th>Critic_Score_na</th>\n",
              "      <th>Critic_Count_na</th>\n",
              "      <th>User_Score_na</th>\n",
              "      <th>User_Count_na</th>\n",
              "      <th>Year_of_Release</th>\n",
              "      <th>Critic_Score</th>\n",
              "      <th>Critic_Count</th>\n",
              "      <th>User_Score</th>\n",
              "      <th>User_Count</th>\n",
              "      <th>Global_Sales</th>\n",
              "    </tr>\n",
              "  </thead>\n",
              "  <tbody>\n",
              "    <tr>\n",
              "      <th>0</th>\n",
              "      <td>PS2</td>\n",
              "      <td>Puzzle</td>\n",
              "      <td>#na#</td>\n",
              "      <td>False</td>\n",
              "      <td>True</td>\n",
              "      <td>True</td>\n",
              "      <td>True</td>\n",
              "      <td>True</td>\n",
              "      <td>2002.0</td>\n",
              "      <td>71.0</td>\n",
              "      <td>21.000000</td>\n",
              "      <td>7.13</td>\n",
              "      <td>24.000003</td>\n",
              "      <td>0.05</td>\n",
              "    </tr>\n",
              "    <tr>\n",
              "      <th>1</th>\n",
              "      <td>XB</td>\n",
              "      <td>Sports</td>\n",
              "      <td>E</td>\n",
              "      <td>False</td>\n",
              "      <td>False</td>\n",
              "      <td>False</td>\n",
              "      <td>False</td>\n",
              "      <td>False</td>\n",
              "      <td>2004.0</td>\n",
              "      <td>85.0</td>\n",
              "      <td>28.000000</td>\n",
              "      <td>7.60</td>\n",
              "      <td>14.000001</td>\n",
              "      <td>0.90</td>\n",
              "    </tr>\n",
              "    <tr>\n",
              "      <th>2</th>\n",
              "      <td>X360</td>\n",
              "      <td>Shooter</td>\n",
              "      <td>#na#</td>\n",
              "      <td>True</td>\n",
              "      <td>True</td>\n",
              "      <td>True</td>\n",
              "      <td>False</td>\n",
              "      <td>False</td>\n",
              "      <td>2007.0</td>\n",
              "      <td>71.0</td>\n",
              "      <td>21.000000</td>\n",
              "      <td>5.20</td>\n",
              "      <td>8.999997</td>\n",
              "      <td>0.03</td>\n",
              "    </tr>\n",
              "    <tr>\n",
              "      <th>3</th>\n",
              "      <td>GBA</td>\n",
              "      <td>Racing</td>\n",
              "      <td>E</td>\n",
              "      <td>False</td>\n",
              "      <td>True</td>\n",
              "      <td>True</td>\n",
              "      <td>False</td>\n",
              "      <td>True</td>\n",
              "      <td>2005.0</td>\n",
              "      <td>71.0</td>\n",
              "      <td>21.000000</td>\n",
              "      <td>7.13</td>\n",
              "      <td>24.000003</td>\n",
              "      <td>0.06</td>\n",
              "    </tr>\n",
              "    <tr>\n",
              "      <th>4</th>\n",
              "      <td>DS</td>\n",
              "      <td>Racing</td>\n",
              "      <td>T</td>\n",
              "      <td>False</td>\n",
              "      <td>False</td>\n",
              "      <td>False</td>\n",
              "      <td>False</td>\n",
              "      <td>True</td>\n",
              "      <td>2007.0</td>\n",
              "      <td>72.0</td>\n",
              "      <td>7.000000</td>\n",
              "      <td>7.13</td>\n",
              "      <td>24.000003</td>\n",
              "      <td>0.24</td>\n",
              "    </tr>\n",
              "    <tr>\n",
              "      <th>5</th>\n",
              "      <td>XB</td>\n",
              "      <td>Sports</td>\n",
              "      <td>T</td>\n",
              "      <td>False</td>\n",
              "      <td>False</td>\n",
              "      <td>False</td>\n",
              "      <td>False</td>\n",
              "      <td>True</td>\n",
              "      <td>2002.0</td>\n",
              "      <td>75.0</td>\n",
              "      <td>16.000000</td>\n",
              "      <td>7.13</td>\n",
              "      <td>24.000003</td>\n",
              "      <td>0.20</td>\n",
              "    </tr>\n",
              "    <tr>\n",
              "      <th>6</th>\n",
              "      <td>X360</td>\n",
              "      <td>Shooter</td>\n",
              "      <td>M</td>\n",
              "      <td>False</td>\n",
              "      <td>False</td>\n",
              "      <td>False</td>\n",
              "      <td>False</td>\n",
              "      <td>False</td>\n",
              "      <td>2011.0</td>\n",
              "      <td>90.0</td>\n",
              "      <td>82.999998</td>\n",
              "      <td>8.60</td>\n",
              "      <td>679.000012</td>\n",
              "      <td>1.51</td>\n",
              "    </tr>\n",
              "    <tr>\n",
              "      <th>7</th>\n",
              "      <td>PS2</td>\n",
              "      <td>Misc</td>\n",
              "      <td>E</td>\n",
              "      <td>False</td>\n",
              "      <td>False</td>\n",
              "      <td>False</td>\n",
              "      <td>False</td>\n",
              "      <td>False</td>\n",
              "      <td>2004.0</td>\n",
              "      <td>66.0</td>\n",
              "      <td>12.000000</td>\n",
              "      <td>4.30</td>\n",
              "      <td>6.000000</td>\n",
              "      <td>0.40</td>\n",
              "    </tr>\n",
              "    <tr>\n",
              "      <th>8</th>\n",
              "      <td>XB</td>\n",
              "      <td>Puzzle</td>\n",
              "      <td>E</td>\n",
              "      <td>False</td>\n",
              "      <td>False</td>\n",
              "      <td>False</td>\n",
              "      <td>False</td>\n",
              "      <td>True</td>\n",
              "      <td>2003.0</td>\n",
              "      <td>62.0</td>\n",
              "      <td>13.000000</td>\n",
              "      <td>7.13</td>\n",
              "      <td>24.000003</td>\n",
              "      <td>0.20</td>\n",
              "    </tr>\n",
              "    <tr>\n",
              "      <th>9</th>\n",
              "      <td>PS2</td>\n",
              "      <td>Adventure</td>\n",
              "      <td>#na#</td>\n",
              "      <td>False</td>\n",
              "      <td>True</td>\n",
              "      <td>True</td>\n",
              "      <td>True</td>\n",
              "      <td>True</td>\n",
              "      <td>2008.0</td>\n",
              "      <td>71.0</td>\n",
              "      <td>21.000000</td>\n",
              "      <td>7.13</td>\n",
              "      <td>24.000003</td>\n",
              "      <td>0.02</td>\n",
              "    </tr>\n",
              "  </tbody>\n",
              "</table>"
            ],
            "text/plain": [
              "<IPython.core.display.HTML object>"
            ]
          },
          "metadata": {}
        }
      ]
    },
    {
      "cell_type": "code",
      "metadata": {
        "id": "_oMo2_WOFrcr"
      },
      "source": [
        "# Write your answer here\n",
        "# Eight Embeddings: thre for cat. Platform, Genre, Rating and five\n",
        "# additional embedding layers for continuous variables containing na-values"
      ],
      "execution_count": 47,
      "outputs": []
    },
    {
      "cell_type": "markdown",
      "metadata": {
        "id": "iL4SQ73uDCMg"
      },
      "source": [
        "### Find the learning rate \n",
        "You need to find a suitable learning rate for the training\n",
        "- Read the [docs](https://fastai1.fast.ai/callbacks.one_cycle.html) how to find the right learning rate\n",
        "- Repeat this step until you get a meaningful plot ;)"
      ]
    },
    {
      "cell_type": "code",
      "metadata": {
        "id": "stIFtKUBqMmf",
        "colab": {
          "base_uri": "https://localhost:8080/",
          "height": 300
        },
        "outputId": "90b8d4c2-9edb-4d06-8c93-831cdff1df75"
      },
      "source": [
        "# Write your code here\n",
        "lr_valley = learn.lr_find()\n",
        "print(lr_valley)"
      ],
      "execution_count": 48,
      "outputs": [
        {
          "output_type": "display_data",
          "data": {
            "text/html": [
              ""
            ],
            "text/plain": [
              "<IPython.core.display.HTML object>"
            ]
          },
          "metadata": {}
        },
        {
          "output_type": "stream",
          "name": "stdout",
          "text": [
            "SuggestedLRs(valley=0.009120108559727669)\n"
          ]
        },
        {
          "output_type": "display_data",
          "data": {
            "image/png": "[encoded data removed]",
            "text/plain": [
              "<Figure size 432x288 with 1 Axes>"
            ]
          },
          "metadata": {
            "needs_background": "light"
          }
        }
      ]
    },
    {
      "cell_type": "markdown",
      "metadata": {
        "id": "mZNWMhpdDGIx"
      },
      "source": [
        "### Fit the model\n",
        "\n",
        "- How many epochs (cycles) are necessary to train the model? Is there a problem with overfitting?"
      ]
    },
    {
      "cell_type": "code",
      "metadata": {
        "id": "t1Vg9n-6DImj",
        "colab": {
          "base_uri": "https://localhost:8080/",
          "height": 142
        },
        "outputId": "a6c54c5b-faef-48ff-c1ef-494ab1287458"
      },
      "source": [
        "# Write your answer and code here\n",
        "# More than 3 rounds/epochs may increase the chances for overfitting\n",
        "# Trial and error!\n",
        "learn.fit_one_cycle(3, lr_max=lr_valley)"
      ],
      "execution_count": 49,
      "outputs": [
        {
          "output_type": "display_data",
          "data": {
            "text/html": [
              "<table border=\"1\" class=\"dataframe\">\n",
              "  <thead>\n",
              "    <tr style=\"text-align: left;\">\n",
              "      <th>epoch</th>\n",
              "      <th>train_loss</th>\n",
              "      <th>valid_loss</th>\n",
              "      <th>_rmse</th>\n",
              "      <th>mae</th>\n",
              "      <th>time</th>\n",
              "    </tr>\n",
              "  </thead>\n",
              "  <tbody>\n",
              "    <tr>\n",
              "      <td>0</td>\n",
              "      <td>2.082655</td>\n",
              "      <td>2.042934</td>\n",
              "      <td>1.429312</td>\n",
              "      <td>0.485353</td>\n",
              "      <td>00:10</td>\n",
              "    </tr>\n",
              "    <tr>\n",
              "      <td>1</td>\n",
              "      <td>3.109551</td>\n",
              "      <td>3.448118</td>\n",
              "      <td>1.856911</td>\n",
              "      <td>0.471580</td>\n",
              "      <td>00:10</td>\n",
              "    </tr>\n",
              "    <tr>\n",
              "      <td>2</td>\n",
              "      <td>3.365328</td>\n",
              "      <td>1.795706</td>\n",
              "      <td>1.340040</td>\n",
              "      <td>0.434515</td>\n",
              "      <td>00:09</td>\n",
              "    </tr>\n",
              "  </tbody>\n",
              "</table>"
            ],
            "text/plain": [
              "<IPython.core.display.HTML object>"
            ]
          },
          "metadata": {}
        }
      ]
    },
    {
      "cell_type": "markdown",
      "metadata": {
        "id": "xStuybwxntEq"
      },
      "source": [
        "### Evaluate the model\n",
        "\n",
        "Report the in-sample as well as the out-of-sample performance usinge the mean absolute error."
      ]
    },
    {
      "cell_type": "code",
      "metadata": {
        "id": "bBbtzt8LqS_s",
        "colab": {
          "base_uri": "https://localhost:8080/",
          "height": 34
        },
        "outputId": "726a6520-40c3-49b9-fb2e-55e08a199f07"
      },
      "source": [
        "# Write your code here\n",
        "print(\"in-sample performance: {}\".format(np.array(learn.validate(ds_idx=0)[2])))"
      ],
      "execution_count": 50,
      "outputs": [
        {
          "output_type": "display_data",
          "data": {
            "text/html": [
              ""
            ],
            "text/plain": [
              "<IPython.core.display.HTML object>"
            ]
          },
          "metadata": {}
        },
        {
          "output_type": "stream",
          "name": "stdout",
          "text": [
            "in-sample performance: 0.441213995218277\n"
          ]
        }
      ]
    },
    {
      "cell_type": "code",
      "metadata": {
        "id": "WJV0RrZcG9ad",
        "colab": {
          "base_uri": "https://localhost:8080/",
          "height": 34
        },
        "outputId": "edf211bd-2e4c-4f79-e723-f5208621ab99"
      },
      "source": [
        "# Write your code here\n",
        "print(\"out-of-sample performance: {}\".format(np.array(learn.validate(ds_idx=1)[2])))"
      ],
      "execution_count": 51,
      "outputs": [
        {
          "output_type": "display_data",
          "data": {
            "text/html": [
              ""
            ],
            "text/plain": [
              "<IPython.core.display.HTML object>"
            ]
          },
          "metadata": {}
        },
        {
          "output_type": "stream",
          "name": "stdout",
          "text": [
            "out-of-sample performance: 0.4345151484012604\n"
          ]
        }
      ]
    },
    {
      "cell_type": "markdown",
      "metadata": {
        "id": "coXyd_ESFrct"
      },
      "source": [
        "## Discussion"
      ]
    },
    {
      "cell_type": "markdown",
      "metadata": {
        "id": "frK0l6e_Frct"
      },
      "source": [
        "Looking at the results, discuss the advantages and disadvantages of deep learning for tabular data."
      ]
    },
    {
      "cell_type": "code",
      "metadata": {
        "id": "OoogCo0vFrcu"
      },
      "source": [
        "# Write your answer here\n",
        "# Some points you could have mentioned:\n",
        "\n",
        "# Advantages\n",
        "# - does not require feature engineering\n",
        "# - thus, it can flexibly adapt to new challenges\n",
        "\n",
        "# Disadvantages\n",
        "# - often requires large amount of data\n",
        "# - requires high compiuting power \n",
        "# - training ist often time consuming"
      ],
      "execution_count": 43,
      "outputs": []
    }
  ]
}