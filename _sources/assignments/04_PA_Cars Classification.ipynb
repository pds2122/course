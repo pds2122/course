{
 "cells": [
  {
   "cell_type": "markdown",
   "metadata": {
    "colab_type": "text",
    "id": "tGc2_6yfntEV"
   },
   "source": [
    "*Practical Data Science 21/22*\n",
    "# Programming Assignment 4 - Cars Classification"
   ]
  },
  {
   "cell_type": "markdown",
   "metadata": {
    "colab_type": "text",
    "id": "IoLPBsbcntEY"
   },
   "source": [
    "In this programming assignment, you will need to apply your new deep learning knowledge on image classification."
   ]
  },
  {
   "cell_type": "markdown",
   "metadata": {
    "colab_type": "text",
    "id": "nvf0fWGQDsFE"
   },
   "source": [
    "First, you need to import all the necessary packages for this assignment."
   ]
  },
  {
   "cell_type": "code",
   "execution_count": 1,
   "metadata": {
    "colab_type": "code",
    "id": "f0J9ncohntEd"
   },
   "outputs": [],
   "source": [
    "!pip install git+https://github.com/fastai/fastai.git # upgrade fastai on colab"
   ]
  },
  {
   "cell_type": "code",
   "execution_count": 2,
   "metadata": {
    "colab_type": "code",
    "id": "f0J9ncohntEd"
   },
   "outputs": [],
   "source": [
    "from fastai.vision.all import *\n",
    "from scipy.io import loadmat #this package is used to load matlab files"
   ]
  },
  {
   "cell_type": "markdown",
   "metadata": {
    "colab_type": "text",
    "id": "JcWF9CzcntEb"
   },
   "source": [
    "## Introduction and Dataset\n",
    "\n",
    "You are provided with the [Cars Dataset](https://ai.stanford.edu/~jkrause/cars/car_dataset.html) by [Krause, Jonathan, et al., 2013](https://www.cv-foundation.org//openaccess/content_iccv_workshops_2013/W19/papers/Krause_3D_Object_Representations_2013_ICCV_paper.pdf). The Cars dataset contains 16,185 images of 196 classes of cars. The data is split into 8,144 training images and 8,041 testing images, where each class has been split roughly in a 50-50 split. Classes are typically at the level of Make, Model, Year, e.g. 2012 Tesla Model S or 2012 BMW M3 coupe.\n",
    "\n",
    "![Example Car](https://ai.stanford.edu/~jkrause/cars/car4.jpg)"
   ]
  },
  {
   "cell_type": "markdown",
   "metadata": {
    "colab_type": "text",
    "id": "gTWUFCpLDmvI"
   },
   "source": [
    "To help you get started, you can use the following code block to download and store the data (this may take a while!)\n",
    "- You may use the Google Drive [Integration](https://colab.research.google.com/notebooks/io.ipynb) for Google Colab to save and quickly access the data."
   ]
  },
  {
   "cell_type": "code",
   "execution_count": 4,
   "metadata": {
    "colab_type": "code",
    "id": "QTOYL4syC1wM"
   },
   "outputs": [
    {
     "name": "stdout",
     "output_type": "stream",
     "text": [
      "--2021-12-02 08:19:04--  http://ai.stanford.edu/~jkrause/car196/cars_train.tgz\n",
      "Resolving ai.stanford.edu (ai.stanford.edu)... 171.64.68.10\n",
      "Connecting to ai.stanford.edu (ai.stanford.edu)|171.64.68.10|:80... connected.\n",
      "HTTP request sent, awaiting response... 200 OK\n",
      "Length: 979269282 (934M) [application/x-gzip]\n",
      "Saving to: 'cars_train.tgz'\n",
      "\n",
      "cars_train.tgz      100%[===================>] 933.90M  12.5MB/s    in 81s     \n",
      "\n",
      "2021-12-02 08:20:26 (11.5 MB/s) - 'cars_train.tgz' saved [979269282/979269282]\n",
      "\n",
      "--2021-12-02 08:20:26--  http://ai.stanford.edu/~jkrause/car196/cars_annos.mat\n",
      "Resolving ai.stanford.edu (ai.stanford.edu)... 171.64.68.10\n",
      "Connecting to ai.stanford.edu (ai.stanford.edu)|171.64.68.10|:80... connected.\n",
      "HTTP request sent, awaiting response... 200 OK\n",
      "Length: 394471 (385K) [text/plain]\n",
      "Saving to: 'cars_annos.mat'\n",
      "\n",
      "cars_annos.mat      100%[===================>] 385.23K   346KB/s    in 1.1s    \n",
      "\n",
      "2021-12-02 08:20:28 (346 KB/s) - 'cars_annos.mat' saved [394471/394471]\n",
      "\n",
      "tar: car_ims.tgz: Cannot open: No such file or directory\n",
      "tar: Error is not recoverable: exiting now\n"
     ]
    }
   ],
   "source": [
    "!wget 'http://ai.stanford.edu/~jkrause/car196/cars_train.tgz'\n",
    "!wget 'http://ai.stanford.edu/~jkrause/car196/cars_annos.mat'\n",
    "!tar -xf cars_train.tgz"
   ]
  },
  {
   "cell_type": "markdown",
   "metadata": {
    "colab_type": "text",
    "id": "fB46dBJ0EFDa"
   },
   "source": [
    "All images of this data set are now stored in the `cars_train` directory. List the first 10 image files in this directory."
   ]
  },
  {
   "cell_type": "code",
   "execution_count": 5,
   "metadata": {
    "colab_type": "code",
    "id": "WjbFhX02EFWM"
   },
   "outputs": [],
   "source": [
    "# Write your code here\n",
    "path = 'cars_train'"
   ]
  },
  {
   "cell_type": "markdown",
   "metadata": {
    "colab_type": "text",
    "id": "EkLARc2mLOwM"
   },
   "source": [
    "Different data sets are labeled in many different ways. The images of this data set are stored in only one directory with their `id` as file name. The labels are stored in a different file called 'cars_annos.mat'. You can use the following code block to load this file into a DataFrame."
   ]
  },
  {
   "cell_type": "code",
   "execution_count": 6,
   "metadata": {},
   "outputs": [
    {
     "data": {
      "text/html": [
       "<div>\n",
       "<style scoped>\n",
       "    .dataframe tbody tr th:only-of-type {\n",
       "        vertical-align: middle;\n",
       "    }\n",
       "\n",
       "    .dataframe tbody tr th {\n",
       "        vertical-align: top;\n",
       "    }\n",
       "\n",
       "    .dataframe thead th {\n",
       "        text-align: right;\n",
       "    }\n",
       "</style>\n",
       "<table border=\"1\" class=\"dataframe\">\n",
       "  <thead>\n",
       "    <tr style=\"text-align: right;\">\n",
       "      <th></th>\n",
       "      <th>bbox_x1</th>\n",
       "      <th>bbox_y1</th>\n",
       "      <th>bbox_x2</th>\n",
       "      <th>bbox_y2</th>\n",
       "      <th>class</th>\n",
       "      <th>fname</th>\n",
       "      <th>labels</th>\n",
       "    </tr>\n",
       "  </thead>\n",
       "  <tbody>\n",
       "    <tr>\n",
       "      <th>0</th>\n",
       "      <td>39</td>\n",
       "      <td>116</td>\n",
       "      <td>569</td>\n",
       "      <td>375</td>\n",
       "      <td>14</td>\n",
       "      <td>cars_train/00001.jpg</td>\n",
       "      <td>Audi TTS Coupe 2012</td>\n",
       "    </tr>\n",
       "    <tr>\n",
       "      <th>1</th>\n",
       "      <td>39</td>\n",
       "      <td>52</td>\n",
       "      <td>233</td>\n",
       "      <td>150</td>\n",
       "      <td>14</td>\n",
       "      <td>cars_train/00017.jpg</td>\n",
       "      <td>Audi TTS Coupe 2012</td>\n",
       "    </tr>\n",
       "    <tr>\n",
       "      <th>2</th>\n",
       "      <td>52</td>\n",
       "      <td>47</td>\n",
       "      <td>586</td>\n",
       "      <td>260</td>\n",
       "      <td>14</td>\n",
       "      <td>cars_train/00411.jpg</td>\n",
       "      <td>Audi TTS Coupe 2012</td>\n",
       "    </tr>\n",
       "    <tr>\n",
       "      <th>3</th>\n",
       "      <td>47</td>\n",
       "      <td>92</td>\n",
       "      <td>209</td>\n",
       "      <td>178</td>\n",
       "      <td>14</td>\n",
       "      <td>cars_train/00467.jpg</td>\n",
       "      <td>Audi TTS Coupe 2012</td>\n",
       "    </tr>\n",
       "    <tr>\n",
       "      <th>4</th>\n",
       "      <td>7</td>\n",
       "      <td>51</td>\n",
       "      <td>253</td>\n",
       "      <td>156</td>\n",
       "      <td>14</td>\n",
       "      <td>cars_train/00888.jpg</td>\n",
       "      <td>Audi TTS Coupe 2012</td>\n",
       "    </tr>\n",
       "  </tbody>\n",
       "</table>\n",
       "</div>"
      ],
      "text/plain": [
       "   bbox_x1  bbox_y1  bbox_x2  bbox_y2  class                 fname  \\\n",
       "0       39      116      569      375     14  cars_train/00001.jpg   \n",
       "1       39       52      233      150     14  cars_train/00017.jpg   \n",
       "2       52       47      586      260     14  cars_train/00411.jpg   \n",
       "3       47       92      209      178     14  cars_train/00467.jpg   \n",
       "4        7       51      253      156     14  cars_train/00888.jpg   \n",
       "\n",
       "                labels  \n",
       "0  Audi TTS Coupe 2012  \n",
       "1  Audi TTS Coupe 2012  \n",
       "2  Audi TTS Coupe 2012  \n",
       "3  Audi TTS Coupe 2012  \n",
       "4  Audi TTS Coupe 2012  "
      ]
     },
     "execution_count": 6,
     "metadata": {},
     "output_type": "execute_result"
    }
   ],
   "source": [
    "# Create Labels from class names\n",
    "cars_annos = loadmat('cars_train_annos.mat')\n",
    "class_names = loadmat('cars_meta.mat')['class_names']\n",
    "labels = [c for c in class_names[0]]\n",
    "labels = pd.DataFrame(labels, columns=['labels'])\n",
    "labels['class'] = labels.index+1\n",
    "# Create Data Frame from .mat file\n",
    "frame = [[i.flat[0] for i in line] for line in cars_annos['annotations'][0]]\n",
    "columns = ['bbox_x1', 'bbox_y1', 'bbox_x2', 'bbox_y2', 'class','fname']\n",
    "df = pd.DataFrame(frame, columns=columns)\n",
    "df['fname'] = path+\"/\"+df['fname']\n",
    "df = df.merge(labels, on='class')\n",
    "df.head()"
   ]
  },
  {
   "cell_type": "markdown",
   "metadata": {
    "colab_type": "text",
    "id": "ofYTnNAR-9MY"
   },
   "source": [
    "## Creating the Dataloaders"
   ]
  },
  {
   "cell_type": "markdown",
   "metadata": {
    "colab_type": "text",
    "id": "ZNpGtnjh_KU0"
   },
   "source": [
    "Use the [data block API](https://docs.fast.ai/data.block.html#DataBlock) to load the data using `df`\n",
    "\n",
    "1. Define the blocks\n",
    "1. Define the `get_x`and `get_y` using the `ColReader()` function (see [docs](https://docs.fast.ai/data.transforms#ColReader) or [example](https://docs.fast.ai/tutorial.vision.html#Multi-label-classification---With-the-data-block-API))\n",
    "1. Split the images randomly into 85% train and 15% validation set ([docs](https://docs.fast.ai/data.transforms#RandomSplitter), use seed = 42)\n",
    "1. Define suitable [transforms](https://docs.fast.ai/vision.augment.html#aug_transforms)  "
   ]
  },
  {
   "cell_type": "code",
   "execution_count": 7,
   "metadata": {},
   "outputs": [],
   "source": [
    "# Write your code here\n",
    "# cars = "
   ]
  },
  {
   "cell_type": "markdown",
   "metadata": {},
   "source": [
    "5. Create the dataloaders from `df`"
   ]
  },
  {
   "cell_type": "code",
   "execution_count": 8,
   "metadata": {},
   "outputs": [],
   "source": [
    "# Write your code here\n",
    "# dls = "
   ]
  },
  {
   "cell_type": "markdown",
   "metadata": {
    "colab_type": "text",
    "id": "n9lT7cAmA5F2"
   },
   "source": [
    "Now, use the Dataloaders to display three rows of random pictures from a batch."
   ]
  },
  {
   "cell_type": "code",
   "execution_count": 9,
   "metadata": {
    "colab_type": "code",
    "id": "ZqpPoLJaLAwA"
   },
   "outputs": [],
   "source": [
    "# Write your code here"
   ]
  },
  {
   "cell_type": "markdown",
   "metadata": {
    "colab_type": "text",
    "id": "TnVNxb0eAASO"
   },
   "source": [
    "How many vehicle classes are in the dataset?\n",
    "\n",
    "__Hint__: use `dls.vocab`"
   ]
  },
  {
   "cell_type": "code",
   "execution_count": 10,
   "metadata": {
    "colab_type": "code",
    "id": "YrE-dJ0oARl3"
   },
   "outputs": [],
   "source": [
    "# Write your code here"
   ]
  },
  {
   "cell_type": "markdown",
   "metadata": {
    "colab_type": "text",
    "id": "NHPY-ROICpQS"
   },
   "source": [
    "## Train the Model"
   ]
  },
  {
   "cell_type": "markdown",
   "metadata": {
    "colab_type": "text",
    "id": "2QbIfj5hCz27"
   },
   "source": [
    "Once the data is ready you can start training a model. Use the `cnn_learner` to create a model with \n",
    "- a Resnet34 architecture\n",
    "- the metrics *accuracy* and [*top-5 accuracy*](https://docs.fast.ai/metrics.html#top_k_accuracy)"
   ]
  },
  {
   "cell_type": "code",
   "execution_count": 11,
   "metadata": {
    "colab_type": "code",
    "id": "MPbUxgzKqHf5"
   },
   "outputs": [],
   "source": [
    "# Write your code here"
   ]
  },
  {
   "cell_type": "markdown",
   "metadata": {
    "colab_type": "text",
    "id": "e7m5M2PHJoiZ"
   },
   "source": [
    "Finally, you can train the model. Apply the concepts from the lecture, i.e., \n",
    "- finding the learning rate\n",
    "- training the last layers\n",
    "- unfreezing the model\n",
    "- train all layers (learning rate rule of thumb!)\n",
    "\n",
    "Always provide an explanation **why** you chose the number of epochs and the learning rate.\n",
    "\n",
    "Save the model after each training \n",
    "```\n",
    "learn.save('stage-x')\n",
    "``` \n",
    "so that you can reload the model \n",
    "``` \n",
    "learn = learn.load('stage-x')\n",
    "``` \n",
    "if something goes wrong. If you load a model with *freezed* layers, you need to *unfreeze* the layers again."
   ]
  },
  {
   "cell_type": "code",
   "execution_count": 12,
   "metadata": {
    "colab_type": "code",
    "id": "tumJY7DNJjp-"
   },
   "outputs": [],
   "source": [
    "# Write your code and explanations here"
   ]
  },
  {
   "cell_type": "markdown",
   "metadata": {
    "colab_type": "text",
    "id": "_2d6BIHTVn9l"
   },
   "source": [
    "## Result Interpretation\n",
    "\n",
    "\n",
    "\n",
    "\n"
   ]
  },
  {
   "cell_type": "markdown",
   "metadata": {
    "colab_type": "text",
    "id": "DiWRZ9HH4d_W"
   },
   "source": [
    "Explain the difference betweeen the metrics *accuracy* and *top_5_accuracy*. Why can it be useful to report both metrics?"
   ]
  },
  {
   "cell_type": "code",
   "execution_count": 17,
   "metadata": {
    "colab_type": "code",
    "id": "-k0YTalT5DbS"
   },
   "outputs": [],
   "source": [
    "# Write your answer here"
   ]
  },
  {
   "cell_type": "markdown",
   "metadata": {
    "colab_type": "text",
    "id": "UMshOOnA4aEK"
   },
   "source": [
    "Use the [ClassificationInterpretation](https://docs.fast.ai/interpret.html) to analyze the results in more detail. What are your main findings?"
   ]
  },
  {
   "cell_type": "code",
   "execution_count": 18,
   "metadata": {},
   "outputs": [],
   "source": [
    "# Write your code and explanations here"
   ]
  }
 ],
 "metadata": {
  "accelerator": "GPU",
  "colab": {
   "collapsed_sections": [],
   "name": "Assignment_4_solution.ipynb",
   "provenance": [],
   "toc_visible": true
  },
  "kernelspec": {
   "display_name": "pds2122",
   "language": "python",
   "name": "pds2122"
  },
  "language_info": {
   "codemirror_mode": {
    "name": "ipython",
    "version": 3
   },
   "file_extension": ".py",
   "mimetype": "text/x-python",
   "name": "python",
   "nbconvert_exporter": "python",
   "pygments_lexer": "ipython3",
   "version": "3.9.7"
  }
 },
 "nbformat": 4,
 "nbformat_minor": 4
}
