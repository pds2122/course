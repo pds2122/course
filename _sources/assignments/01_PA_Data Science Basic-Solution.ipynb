{
 "cells": [
  {
   "cell_type": "markdown",
   "metadata": {
    "slideshow": {
     "slide_type": "slide"
    }
   },
   "source": [
    "# Programming Assignment: Data Science Basics"
   ]
  },
  {
   "cell_type": "markdown",
   "metadata": {},
   "source": [
    "In this programming assignment you need to apply your new `numpy`, `pandas` and `matplotlib` knowledge. You will need to do several [`groupby`](https://pandas.pydata.org/pandas-docs/stable/generated/pandas.DataFrame.groupby.html)s and [`join`](https://pandas.pydata.org/pandas-docs/stable/generated/pandas.DataFrame.join.html)`s to solve the task. "
   ]
  },
  {
   "cell_type": "code",
   "execution_count": 1,
   "metadata": {
    "slideshow": {
     "slide_type": "fragment"
    }
   },
   "outputs": [],
   "source": [
    "# Import Packages\n",
    "import pandas as pd\n",
    "import numpy as np\n",
    "import os\n",
    "import matplotlib.pyplot as plt\n",
    "%matplotlib inline "
   ]
  },
  {
   "cell_type": "markdown",
   "metadata": {},
   "source": [
    "Pandas allows you to load the required data sets directly from github:"
   ]
  },
  {
   "cell_type": "code",
   "execution_count": 2,
   "metadata": {
    "slideshow": {
     "slide_type": "fragment"
    }
   },
   "outputs": [],
   "source": [
    "# Load Data\n",
    "transactions    = pd.read_csv('https://github.com/NikoStein/pds_data/raw/main/data/sales_train.csv.gz')\n",
    "items           = pd.read_csv('https://github.com/NikoStein/pds_data/raw/main/data/items.csv')\n",
    "item_categories = pd.read_csv('https://github.com/NikoStein/pds_data/raw/main/data/item_categories.csv')"
   ]
  },
  {
   "cell_type": "markdown",
   "metadata": {
    "slideshow": {
     "slide_type": "slide"
    }
   },
   "source": [
    "## Get to know the data\n",
    "Print the **shape** of the loaded dataframes and use [`df.head`](https://pandas.pydata.org/pandas-docs/stable/generated/pandas.DataFrame.head.html) function to print several rows. Examine the features you are given."
   ]
  },
  {
   "cell_type": "code",
   "execution_count": 3,
   "metadata": {},
   "outputs": [
    {
     "name": "stdout",
     "output_type": "stream",
     "text": [
      "--------------------------------------------------------\n",
      "(2935849, 6)\n",
      "         date  date_block_num  shop_id  item_id  item_price  item_cnt_day\n",
      "0  02.01.2013               0       59    22154      999.00           1.0\n",
      "1  03.01.2013               0       25     2552      899.00           1.0\n",
      "2  05.01.2013               0       25     2552      899.00          -1.0\n",
      "3  06.01.2013               0       25     2554     1709.05           1.0\n",
      "4  15.01.2013               0       25     2555     1099.00           1.0\n",
      "\n",
      "\n",
      "\n",
      "\n",
      "--------------------------------------------------------\n",
      "(22170, 3)\n",
      "                                           item_name  item_id  \\\n",
      "0          ! ВО ВЛАСТИ НАВАЖДЕНИЯ (ПЛАСТ.)         D        0   \n",
      "1  !ABBYY FineReader 12 Professional Edition Full...        1   \n",
      "2      ***В ЛУЧАХ СЛАВЫ   (UNV)                    D        2   \n",
      "3    ***ГОЛУБАЯ ВОЛНА  (Univ)                      D        3   \n",
      "4        ***КОРОБКА (СТЕКЛО)                       D        4   \n",
      "\n",
      "   item_category_id  \n",
      "0                40  \n",
      "1                76  \n",
      "2                40  \n",
      "3                40  \n",
      "4                40  \n",
      "\n",
      "\n",
      "\n",
      "\n",
      "--------------------------------------------------------\n",
      "(84, 2)\n",
      "        item_category_name  item_category_id\n",
      "0  PC - Гарнитуры/Наушники                 0\n",
      "1         Аксессуары - PS2                 1\n",
      "2         Аксессуары - PS3                 2\n",
      "3         Аксессуары - PS4                 3\n",
      "4         Аксессуары - PSP                 4\n",
      "\n",
      "\n",
      "\n",
      "\n"
     ]
    }
   ],
   "source": [
    "for df in [transactions, items, item_categories]:\n",
    "    print('--------------------------------------------------------')\n",
    "    print(df.shape)\n",
    "    print(df.head(5))\n",
    "    print('\\n\\n\\n')"
   ]
  },
  {
   "cell_type": "markdown",
   "metadata": {
    "slideshow": {
     "slide_type": "slide"
    }
   },
   "source": [
    "## Maximum total revenue among all the shops\n",
    "\n",
    "Now use your `pandas` skills to get answers for the following questions. \n",
    "The first question is:\n",
    "\n",
    "What was the maximum total revenue among all the shops in July, 2013? \n",
    "\n",
    "* Hereinafter *revenue* refers to total sales minus value of goods returned.\n",
    "\n",
    "*Hints:*\n",
    "\n",
    "* Sometimes items are returned, find such examples in the dataset. \n",
    "* It is handy to split `date` field into [`day`, `month`, `year`] components and use `df.year == 13` and `df.month == 6` in order to select target subset of dates.\n",
    "* You may work with `date` feature as with strings, or you may first convert it to `pd.datetime` type with `pd.to_datetime` function, but do not forget to set correct `format` argument."
   ]
  },
  {
   "cell_type": "code",
   "execution_count": 15,
   "metadata": {},
   "outputs": [],
   "source": [
    "df = transactions\n",
    "df['pd_date'] = pd.to_datetime(df['date'], format='%d.%m.%Y')"
   ]
  },
  {
   "cell_type": "code",
   "execution_count": 16,
   "metadata": {},
   "outputs": [],
   "source": [
    "df = transactions\n",
    "df['pd_date'] = pd.to_datetime(df['date'], format='%d.%m.%Y')\n",
    "df['day'] = df['pd_date'].dt.day\n",
    "df['month'] = df['pd_date'].dt.month\n",
    "df['year'] = df['pd_date'].dt.year\n",
    "df['revenue'] = df['item_cnt_day'] * df['item_price']"
   ]
  },
  {
   "cell_type": "code",
   "execution_count": 17,
   "metadata": {},
   "outputs": [],
   "source": [
    "df_filtered = df[(df.year == 2013) & (df.month == 6)]\n",
    "revenues = df_filtered.groupby('shop_id').revenue.sum()"
   ]
  },
  {
   "cell_type": "code",
   "execution_count": 18,
   "metadata": {},
   "outputs": [],
   "source": [
    "max_revenue = revenues.max()"
   ]
  },
  {
   "cell_type": "code",
   "execution_count": 19,
   "metadata": {},
   "outputs": [
    {
     "data": {
      "text/plain": [
       "5563318.500000044"
      ]
     },
     "execution_count": 19,
     "metadata": {},
     "output_type": "execute_result"
    }
   ],
   "source": [
    "max_revenue"
   ]
  },
  {
   "cell_type": "markdown",
   "metadata": {},
   "source": [
    "In addition we can find the index (shop id) of the row with the max value in the column using ```idxmax()```"
   ]
  },
  {
   "cell_type": "code",
   "execution_count": 20,
   "metadata": {},
   "outputs": [
    {
     "data": {
      "text/plain": [
       "31"
      ]
     },
     "execution_count": 20,
     "metadata": {},
     "output_type": "execute_result"
    }
   ],
   "source": [
    "revenues.idxmax()"
   ]
  },
  {
   "cell_type": "markdown",
   "metadata": {
    "slideshow": {
     "slide_type": "slide"
    }
   },
   "source": [
    "## Constant price\n",
    "\n",
    "How many items are there, such that their price stays constant (to the best of our knowledge) during the whole period of time?\n",
    "\n",
    "* Let's assume, that the items are returned for the same price as they had been sold."
   ]
  },
  {
   "cell_type": "code",
   "execution_count": 21,
   "metadata": {},
   "outputs": [
    {
     "data": {
      "text/plain": [
       "5926"
      ]
     },
     "execution_count": 21,
     "metadata": {},
     "output_type": "execute_result"
    }
   ],
   "source": [
    "num_items_constant_price = np.sum(transactions.groupby('item_id').item_price.nunique() == 1)\n",
    "num_items_constant_price"
   ]
  },
  {
   "cell_type": "markdown",
   "metadata": {
    "slideshow": {
     "slide_type": "slide"
    }
   },
   "source": [
    "## Variance of sold items per day\n",
    "\n",
    "What was the variance of the number of sold items per day sequence for the shop with `shop_id = 25` in December, 2014?\n",
    "\n",
    "* Do not count the items that were sold but returned back later.\n",
    "* Fill `total_num_items_sold`: An (ordered) array that contains the total number of items sold on each day \n",
    "* Then compute variance of the of `total_num_items_sold`\n",
    "* If there were no sales at a given day, ***do not*** impute missing value with zero, just ignore that day"
   ]
  },
  {
   "cell_type": "code",
   "execution_count": 22,
   "metadata": {},
   "outputs": [],
   "source": [
    "shop_id = 25\n",
    "\n",
    "df_filtered = df[(df.shop_id == shop_id) & (df.year == 2014) & (df.month == 12)].sort_values(by='pd_date')"
   ]
  },
  {
   "cell_type": "code",
   "execution_count": 23,
   "metadata": {},
   "outputs": [],
   "source": [
    "total_num_items_sold = df_filtered.groupby('pd_date').item_cnt_day.sum()"
   ]
  },
  {
   "cell_type": "code",
   "execution_count": 24,
   "metadata": {},
   "outputs": [],
   "source": [
    "total_num_items_sold_var = total_num_items_sold.var()"
   ]
  },
  {
   "cell_type": "code",
   "execution_count": 25,
   "metadata": {},
   "outputs": [
    {
     "data": {
      "text/plain": [
       "117167.70229885059"
      ]
     },
     "execution_count": 25,
     "metadata": {},
     "output_type": "execute_result"
    }
   ],
   "source": [
    "total_num_items_sold_var"
   ]
  },
  {
   "cell_type": "markdown",
   "metadata": {
    "slideshow": {
     "slide_type": "slide"
    }
   },
   "source": [
    "## Vizualization of the daily revenue\n",
    "\n",
    "Use `total_num_items_sold` to plot the daily revenue of `shop_id = 25` in December, 2014.\n",
    "\n",
    "* y-label: 'Num items'\n",
    "* x-label: 'Day'\n",
    "* plot-title: 'Daily revenue for shop_id = 25'\n",
    "* use plt.show() to display the plot in the end"
   ]
  },
  {
   "cell_type": "code",
   "execution_count": 26,
   "metadata": {},
   "outputs": [
    {
     "data": {
      "image/png": "[encoded data removed]",
      "text/plain": [
       "<Figure size 432x288 with 1 Axes>"
      ]
     },
     "metadata": {
      "needs_background": "light"
     },
     "output_type": "display_data"
    }
   ],
   "source": [
    "plt.plot(total_num_items_sold)\n",
    "plt.xlabel('Day')\n",
    "plt.ylabel('Num Items')\n",
    "plt.title(\"Daily revenue for shop_id = {}\".format(shop_id))\n",
    "plt.show()"
   ]
  },
  {
   "cell_type": "markdown",
   "metadata": {
    "slideshow": {
     "slide_type": "slide"
    }
   },
   "source": [
    "## Final submission\n",
    "Only for the submission (do not change the code)."
   ]
  },
  {
   "cell_type": "code",
   "execution_count": 27,
   "metadata": {},
   "outputs": [
    {
     "name": "stdout",
     "output_type": "stream",
     "text": [
      "5563318.500000044\n",
      "5926\n",
      "pd_date\n",
      "2014-12-01     153.0\n",
      "2014-12-02     169.0\n",
      "2014-12-03     195.0\n",
      "2014-12-04     164.0\n",
      "2014-12-05     300.0\n",
      "2014-12-06     350.0\n",
      "2014-12-07     325.0\n",
      "2014-12-08     209.0\n",
      "2014-12-09     204.0\n",
      "2014-12-10     143.0\n",
      "2014-12-11     214.0\n",
      "2014-12-12     297.0\n",
      "2014-12-13     432.0\n",
      "2014-12-14     305.0\n",
      "2014-12-15     225.0\n",
      "2014-12-16     192.0\n",
      "2014-12-17     285.0\n",
      "2014-12-18     325.0\n",
      "2014-12-19     418.0\n",
      "2014-12-20     579.0\n",
      "2014-12-21     379.0\n",
      "2014-12-22     318.0\n",
      "2014-12-23     371.0\n",
      "2014-12-24     433.0\n",
      "2014-12-25     505.0\n",
      "2014-12-26     620.0\n",
      "2014-12-27     743.0\n",
      "2014-12-28     662.0\n",
      "2014-12-30    1966.0\n",
      "2014-12-31     776.0\n",
      "Name: item_cnt_day, dtype: float64\n",
      "117167.70229885059\n"
     ]
    }
   ],
   "source": [
    "print(max_revenue)\n",
    "print(num_items_constant_price)\n",
    "print(total_num_items_sold)\n",
    "print(total_num_items_sold_var)"
   ]
  },
  {
   "cell_type": "markdown",
   "metadata": {},
   "source": [
    "## Bonus\n",
    "\n",
    "What item category that generated the highest revenue in spring 2014?</b></li>\n",
    "\n",
    "* Submit the `id` of the category found.\n",
    "    \n",
    "* Here, spring is the period from March to Mai."
   ]
  },
  {
   "cell_type": "code",
   "execution_count": 28,
   "metadata": {},
   "outputs": [],
   "source": [
    "df_bonus = pd.merge(df[(df.year == 2014) & (df.month < 6) & (df.month > 2)], items)"
   ]
  },
  {
   "cell_type": "code",
   "execution_count": 29,
   "metadata": {},
   "outputs": [],
   "source": [
    "category_id_with_max_revenue = df_bonus.groupby('item_category_id').revenue.sum().idxmax()"
   ]
  },
  {
   "cell_type": "code",
   "execution_count": 30,
   "metadata": {},
   "outputs": [
    {
     "name": "stdout",
     "output_type": "stream",
     "text": [
      "20\n"
     ]
    }
   ],
   "source": [
    "print(category_id_with_max_revenue)"
   ]
  },
  {
   "cell_type": "code",
   "execution_count": 31,
   "metadata": {},
   "outputs": [
    {
     "data": {
      "text/plain": [
       "33755407.40999936"
      ]
     },
     "execution_count": 31,
     "metadata": {},
     "output_type": "execute_result"
    }
   ],
   "source": [
    "df_bonus.groupby('item_category_id').revenue.sum().loc[20]"
   ]
  }
 ],
 "metadata": {
  "kernelspec": {
   "display_name": "Python 3",
   "language": "python",
   "name": "python3"
  },
  "language_info": {
   "codemirror_mode": {
    "name": "ipython",
    "version": 3
   },
   "file_extension": ".py",
   "mimetype": "text/x-python",
   "name": "python",
   "nbconvert_exporter": "python",
   "pygments_lexer": "ipython3",
   "version": "3.7.9"
  },
  "toc": {
   "base_numbering": "1",
   "nav_menu": {},
   "number_sections": true,
   "sideBar": true,
   "skip_h1_title": false,
   "title_cell": "Table of Contents",
   "title_sidebar": "Contents",
   "toc_cell": false,
   "toc_position": {
    "height": "calc(100% - 180px)",
    "left": "10px",
    "top": "150px",
    "width": "261.0714416503906px"
   },
   "toc_section_display": true,
   "toc_window_display": true
  }
 },
 "nbformat": 4,
 "nbformat_minor": 4
}
